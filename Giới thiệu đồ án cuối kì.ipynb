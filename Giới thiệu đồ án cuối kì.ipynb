{
  "nbformat": 4,
  "nbformat_minor": 0,
  "metadata": {
    "colab": {
      "name": "Untitled0.ipynb",
      "provenance": []
    },
    "kernelspec": {
      "name": "python3",
      "display_name": "Python 3"
    }
  },
  "cells": [
    {
      "cell_type": "markdown",
      "metadata": {
        "id": "4PTlj0NKzoeQ",
        "colab_type": "text"
      },
      "source": [
        "#Đồ án: Nhận diện biển báo giao thông.\n",
        "---\n"
      ]
    },
    {
      "cell_type": "markdown",
      "metadata": {
        "id": "ZC6L4xTLzrgK",
        "colab_type": "text"
      },
      "source": [
        "##1. Mô tả bài toán.\n",
        "* Input: hình ảnh biển báo giao thông (hình ảnh có 1 biển báo).\n",
        "* Output: loại biển báo.\n",
        "\n"
      ]
    },
    {
      "cell_type": "markdown",
      "metadata": {
        "id": "iRZqryWQz0Qo",
        "colab_type": "text"
      },
      "source": [
        "##2. Mô tả bộ dữ liệu\n",
        "* Dữ liệu có 43 loại biển báo gồm 2 phần:\n",
        "    - Phần 1: là dữ liệu tự thu thập. ( 2000 mẫu).\n",
        "    - Phần 2: sử dụng dữ liệu có săn trên kaggle (2GB).\n",
        "* Kích thước ảnh đưa về ảnh màu RGB 200x200 pixels, vì biển báo giao thông nên bỏ qua việc tăng cường dữ liệu. \n",
        "* Có 90% là train, 10% là test.  Trong 90% train sẽ chia ra 10 phần, sẽ train 10 lần với tỉ lệ train:dev là 9:1\n"
      ]
    },
    {
      "cell_type": "markdown",
      "metadata": {
        "id": "P9mX4G0D0Bko",
        "colab_type": "text"
      },
      "source": [
        "##3. Mô tả về đặc trưng\n",
        "* Đặc trưng của các biển báo gồm hình dạng biển báo (tròn, tam giác, vuông)\n",
        "* Trích xuất các cạnh, viền của biển báo.\n"
      ]
    },
    {
      "cell_type": "markdown",
      "metadata": {
        "id": "deEU4LHB0KUC",
        "colab_type": "text"
      },
      "source": [
        "## 4. Mô tả thuật toán  \n",
        "Sử dụng nhiều thuật toán với các thông số khác nhau để đánh giá và lựa chọn model tốt nhất.\n",
        "* Cách 1: Đưa các ảnh về vector 1 chiều với kích thước 200*200*3 (do có 3 kênh màu R,G,B) sau đó lựa chọn thuật toán:\n",
        "  * K-Nearest Neighbour\n",
        "  * Naive Bayes\n",
        "\n",
        "* Cách 2: \n",
        "  * Dùng Convolutional neural network 3D\n",
        "  * Chuyển sang ảnh xám dùng Convolutional neural network 2D\n"
      ]
    },
    {
      "cell_type": "markdown",
      "metadata": {
        "id": "lCxqCkF00XP5",
        "colab_type": "text"
      },
      "source": [
        "##5. Sử dụng 10% dữ liệu để kiểm tra model với mỗi bộ tham số, chọn model tốt nhất để train toàn bộ dữ liệu.\n"
      ]
    },
    {
      "cell_type": "markdown",
      "metadata": {
        "id": "jL1Gf-mf04NV",
        "colab_type": "text"
      },
      "source": [
        "##6. So sánh các thuật toán dựa trên accuracy, lost"
      ]
    }
  ]
}
